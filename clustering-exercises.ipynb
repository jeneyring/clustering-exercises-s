{
 "cells": [
  {
   "cell_type": "code",
   "execution_count": 18,
   "id": "3b8ddbda",
   "metadata": {},
   "outputs": [],
   "source": [
    "import pandas as pd\n",
    "import os\n",
    "from env import get_db_url\n",
    "import matplotlib as plt\n",
    "import seaborn as sns\n",
    "import numpy as np\n",
    "\n",
    "\n",
    "sql = \"\"\"SELECT\n",
    "  *\n",
    "FROM properties_2017\n",
    "LEFT JOIN predictions_2017 AS pe USING (parcelid)\n",
    "LEFT JOIN architecturalstyletype AS arch USING (architecturalstyletypeid)\n",
    "LEFT JOIN propertylandusetype USING (propertylandusetypeid)\n",
    "LEFT JOIN airconditioningtype USING (airconditioningtypeid)\n",
    "LEFT JOIN typeconstructiontype USING (typeconstructiontypeid)\n",
    "LEFT JOIN storytype USING (storytypeid)\n",
    "LEFT JOIN unique_properties USING (parcelid)\n",
    "LEFT JOIN heatingorsystemtype USING (heatingorsystemtypeid)\n",
    "WHERE propertylandusetype.propertylandusedesc = 'Single Family Residential'\n",
    "AND pe.transactiondate LIKE '2017%%';\n",
    "    \n",
    "    \"\"\"\n",
    "\n",
    "df = pd.read_sql(sql, get_db_url(\"zillow\"));\n"
   ]
  },
  {
   "cell_type": "code",
   "execution_count": 19,
   "id": "1f9030cd",
   "metadata": {},
   "outputs": [
    {
     "data": {
      "text/plain": [
       "Index(['heatingorsystemtypeid', 'parcelid', 'storytypeid',\n",
       "       'typeconstructiontypeid', 'airconditioningtypeid',\n",
       "       'propertylandusetypeid', 'architecturalstyletypeid', 'id',\n",
       "       'basementsqft', 'bathroomcnt', 'bedroomcnt', 'buildingclasstypeid',\n",
       "       'buildingqualitytypeid', 'calculatedbathnbr', 'decktypeid',\n",
       "       'finishedfloor1squarefeet', 'calculatedfinishedsquarefeet',\n",
       "       'finishedsquarefeet12', 'finishedsquarefeet13', 'finishedsquarefeet15',\n",
       "       'finishedsquarefeet50', 'finishedsquarefeet6', 'fips', 'fireplacecnt',\n",
       "       'fullbathcnt', 'garagecarcnt', 'garagetotalsqft', 'hashottuborspa',\n",
       "       'latitude', 'longitude', 'lotsizesquarefeet', 'poolcnt', 'poolsizesum',\n",
       "       'pooltypeid10', 'pooltypeid2', 'pooltypeid7',\n",
       "       'propertycountylandusecode', 'propertyzoningdesc',\n",
       "       'rawcensustractandblock', 'regionidcity', 'regionidcounty',\n",
       "       'regionidneighborhood', 'regionidzip', 'roomcnt', 'threequarterbathnbr',\n",
       "       'unitcnt', 'yardbuildingsqft17', 'yardbuildingsqft26', 'yearbuilt',\n",
       "       'numberofstories', 'fireplaceflag', 'structuretaxvaluedollarcnt',\n",
       "       'taxvaluedollarcnt', 'assessmentyear', 'landtaxvaluedollarcnt',\n",
       "       'taxamount', 'taxdelinquencyflag', 'taxdelinquencyyear',\n",
       "       'censustractandblock', 'id', 'logerror', 'transactiondate',\n",
       "       'architecturalstyledesc', 'propertylandusedesc', 'airconditioningdesc',\n",
       "       'typeconstructiondesc', 'storydesc', 'heatingorsystemdesc'],\n",
       "      dtype='object')"
      ]
     },
     "execution_count": 19,
     "metadata": {},
     "output_type": "execute_result"
    }
   ],
   "source": [
    "df.columns"
   ]
  },
  {
   "cell_type": "code",
   "execution_count": 23,
   "id": "4b5e58ca",
   "metadata": {},
   "outputs": [
    {
     "data": {
      "text/plain": [
       "11991059    3\n",
       "11957553    2\n",
       "12478591    2\n",
       "12035592    2\n",
       "12443331    2\n",
       "           ..\n",
       "11494547    1\n",
       "10976762    1\n",
       "12650619    1\n",
       "12650850    1\n",
       "12826780    1\n",
       "Name: parcelid, Length: 52320, dtype: int64"
      ]
     },
     "execution_count": 23,
     "metadata": {},
     "output_type": "execute_result"
    }
   ],
   "source": [
    "df.parcelid.value_counts()"
   ]
  },
  {
   "cell_type": "code",
   "execution_count": null,
   "id": "baa81829",
   "metadata": {},
   "outputs": [],
   "source": []
  }
 ],
 "metadata": {
  "kernelspec": {
   "display_name": "Python 3 (ipykernel)",
   "language": "python",
   "name": "python3"
  },
  "language_info": {
   "codemirror_mode": {
    "name": "ipython",
    "version": 3
   },
   "file_extension": ".py",
   "mimetype": "text/x-python",
   "name": "python",
   "nbconvert_exporter": "python",
   "pygments_lexer": "ipython3",
   "version": "3.9.7"
  }
 },
 "nbformat": 4,
 "nbformat_minor": 5
}
