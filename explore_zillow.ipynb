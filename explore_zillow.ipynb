{
 "cells": [
  {
   "cell_type": "markdown",
   "id": "d7320825",
   "metadata": {},
   "source": [
    "## Explore- Cluster Exercises"
   ]
  },
  {
   "cell_type": "code",
   "execution_count": 1,
   "id": "4ab7e040",
   "metadata": {},
   "outputs": [],
   "source": [
    "# ignore warnings\n",
    "import warnings\n",
    "warnings.filterwarnings(\"ignore\")\n",
    "\n",
    "# Wrangling\n",
    "import pandas as pd\n",
    "import numpy as np\n",
    "from sklearn.model_selection import train_test_split\n",
    "\n",
    "# Statistical Tests\n",
    "import scipy.stats as stats\n",
    "\n",
    "# Visualizing\n",
    "import matplotlib.pyplot as plt\n",
    "from matplotlib import cm\n",
    "import seaborn as sns\n",
    "from sklearn.model_selection import learning_curve\n",
    "\n",
    "#import data\n",
    "from wrangle import wrangle_zillow\n",
    "import wrangle"
   ]
  },
  {
   "cell_type": "markdown",
   "id": "c8e5bd46",
   "metadata": {},
   "source": [
    "### Exercise 1)\n",
    "Ask at least 5 questions about the data, keeping in mind that your target variable is logerror. e.g. Is logerror significantly different for properties in LA County vs Orange County vs Ventura County?"
   ]
  },
  {
   "cell_type": "code",
   "execution_count": 2,
   "id": "3c955850",
   "metadata": {},
   "outputs": [
    {
     "data": {
      "text/html": [
       "<div>\n",
       "<style scoped>\n",
       "    .dataframe tbody tr th:only-of-type {\n",
       "        vertical-align: middle;\n",
       "    }\n",
       "\n",
       "    .dataframe tbody tr th {\n",
       "        vertical-align: top;\n",
       "    }\n",
       "\n",
       "    .dataframe thead th {\n",
       "        text-align: right;\n",
       "    }\n",
       "</style>\n",
       "<table border=\"1\" class=\"dataframe\">\n",
       "  <thead>\n",
       "    <tr style=\"text-align: right;\">\n",
       "      <th></th>\n",
       "      <th>bathroomcnt</th>\n",
       "      <th>bedroomcnt</th>\n",
       "      <th>calculatedbathnbr</th>\n",
       "      <th>calculatedfinishedsquarefeet</th>\n",
       "      <th>finishedsquarefeet12</th>\n",
       "      <th>fips</th>\n",
       "      <th>fullbathcnt</th>\n",
       "      <th>latitude</th>\n",
       "      <th>longitude</th>\n",
       "      <th>lotsizesquarefeet</th>\n",
       "      <th>...</th>\n",
       "      <th>yearbuilt</th>\n",
       "      <th>structuretaxvaluedollarcnt</th>\n",
       "      <th>taxvaluedollarcnt</th>\n",
       "      <th>assessmentyear</th>\n",
       "      <th>landtaxvaluedollarcnt</th>\n",
       "      <th>censustractandblock</th>\n",
       "      <th>logerror</th>\n",
       "      <th>transactiondate</th>\n",
       "      <th>propertylandusedesc</th>\n",
       "      <th>heatingorsystemdesc</th>\n",
       "    </tr>\n",
       "  </thead>\n",
       "  <tbody>\n",
       "    <tr>\n",
       "      <th>0</th>\n",
       "      <td>3.5</td>\n",
       "      <td>4.0</td>\n",
       "      <td>3.5</td>\n",
       "      <td>3100.0</td>\n",
       "      <td>3100.0</td>\n",
       "      <td>6059.0</td>\n",
       "      <td>3.0</td>\n",
       "      <td>33634931.0</td>\n",
       "      <td>-117869207.0</td>\n",
       "      <td>4506.0</td>\n",
       "      <td>...</td>\n",
       "      <td>1998.0</td>\n",
       "      <td>485713.0</td>\n",
       "      <td>1023282.0</td>\n",
       "      <td>2016.0</td>\n",
       "      <td>537569.0</td>\n",
       "      <td>6.059063e+13</td>\n",
       "      <td>0.025595</td>\n",
       "      <td>2017-01-01</td>\n",
       "      <td>Single Family Residential</td>\n",
       "      <td>None</td>\n",
       "    </tr>\n",
       "    <tr>\n",
       "      <th>1</th>\n",
       "      <td>1.0</td>\n",
       "      <td>2.0</td>\n",
       "      <td>1.0</td>\n",
       "      <td>1465.0</td>\n",
       "      <td>1465.0</td>\n",
       "      <td>6111.0</td>\n",
       "      <td>1.0</td>\n",
       "      <td>34449266.0</td>\n",
       "      <td>-119281531.0</td>\n",
       "      <td>12647.0</td>\n",
       "      <td>...</td>\n",
       "      <td>1967.0</td>\n",
       "      <td>88000.0</td>\n",
       "      <td>464000.0</td>\n",
       "      <td>2016.0</td>\n",
       "      <td>376000.0</td>\n",
       "      <td>6.111001e+13</td>\n",
       "      <td>0.055619</td>\n",
       "      <td>2017-01-01</td>\n",
       "      <td>Single Family Residential</td>\n",
       "      <td>None</td>\n",
       "    </tr>\n",
       "    <tr>\n",
       "      <th>2</th>\n",
       "      <td>2.0</td>\n",
       "      <td>3.0</td>\n",
       "      <td>2.0</td>\n",
       "      <td>1243.0</td>\n",
       "      <td>1243.0</td>\n",
       "      <td>6059.0</td>\n",
       "      <td>2.0</td>\n",
       "      <td>33886168.0</td>\n",
       "      <td>-117823170.0</td>\n",
       "      <td>8432.0</td>\n",
       "      <td>...</td>\n",
       "      <td>1962.0</td>\n",
       "      <td>85289.0</td>\n",
       "      <td>564778.0</td>\n",
       "      <td>2016.0</td>\n",
       "      <td>479489.0</td>\n",
       "      <td>6.059022e+13</td>\n",
       "      <td>0.005383</td>\n",
       "      <td>2017-01-01</td>\n",
       "      <td>Single Family Residential</td>\n",
       "      <td>None</td>\n",
       "    </tr>\n",
       "    <tr>\n",
       "      <th>3</th>\n",
       "      <td>3.0</td>\n",
       "      <td>4.0</td>\n",
       "      <td>3.0</td>\n",
       "      <td>2376.0</td>\n",
       "      <td>2376.0</td>\n",
       "      <td>6037.0</td>\n",
       "      <td>3.0</td>\n",
       "      <td>34245180.0</td>\n",
       "      <td>-118240722.0</td>\n",
       "      <td>13038.0</td>\n",
       "      <td>...</td>\n",
       "      <td>1970.0</td>\n",
       "      <td>108918.0</td>\n",
       "      <td>145143.0</td>\n",
       "      <td>2016.0</td>\n",
       "      <td>36225.0</td>\n",
       "      <td>6.037300e+13</td>\n",
       "      <td>-0.103410</td>\n",
       "      <td>2017-01-01</td>\n",
       "      <td>Single Family Residential</td>\n",
       "      <td>Central</td>\n",
       "    </tr>\n",
       "    <tr>\n",
       "      <th>4</th>\n",
       "      <td>3.0</td>\n",
       "      <td>4.0</td>\n",
       "      <td>3.0</td>\n",
       "      <td>2962.0</td>\n",
       "      <td>2962.0</td>\n",
       "      <td>6037.0</td>\n",
       "      <td>3.0</td>\n",
       "      <td>34145202.0</td>\n",
       "      <td>-118179824.0</td>\n",
       "      <td>63000.0</td>\n",
       "      <td>...</td>\n",
       "      <td>1950.0</td>\n",
       "      <td>276684.0</td>\n",
       "      <td>773303.0</td>\n",
       "      <td>2016.0</td>\n",
       "      <td>496619.0</td>\n",
       "      <td>6.037461e+13</td>\n",
       "      <td>-0.001011</td>\n",
       "      <td>2017-01-01</td>\n",
       "      <td>Single Family Residential</td>\n",
       "      <td>Central</td>\n",
       "    </tr>\n",
       "  </tbody>\n",
       "</table>\n",
       "<p>5 rows × 28 columns</p>\n",
       "</div>"
      ],
      "text/plain": [
       "   bathroomcnt  bedroomcnt  calculatedbathnbr  calculatedfinishedsquarefeet  \\\n",
       "0          3.5         4.0                3.5                        3100.0   \n",
       "1          1.0         2.0                1.0                        1465.0   \n",
       "2          2.0         3.0                2.0                        1243.0   \n",
       "3          3.0         4.0                3.0                        2376.0   \n",
       "4          3.0         4.0                3.0                        2962.0   \n",
       "\n",
       "   finishedsquarefeet12    fips  fullbathcnt    latitude    longitude  \\\n",
       "0                3100.0  6059.0          3.0  33634931.0 -117869207.0   \n",
       "1                1465.0  6111.0          1.0  34449266.0 -119281531.0   \n",
       "2                1243.0  6059.0          2.0  33886168.0 -117823170.0   \n",
       "3                2376.0  6037.0          3.0  34245180.0 -118240722.0   \n",
       "4                2962.0  6037.0          3.0  34145202.0 -118179824.0   \n",
       "\n",
       "   lotsizesquarefeet  ... yearbuilt structuretaxvaluedollarcnt  \\\n",
       "0             4506.0  ...    1998.0                   485713.0   \n",
       "1            12647.0  ...    1967.0                    88000.0   \n",
       "2             8432.0  ...    1962.0                    85289.0   \n",
       "3            13038.0  ...    1970.0                   108918.0   \n",
       "4            63000.0  ...    1950.0                   276684.0   \n",
       "\n",
       "   taxvaluedollarcnt  assessmentyear  landtaxvaluedollarcnt  \\\n",
       "0          1023282.0          2016.0               537569.0   \n",
       "1           464000.0          2016.0               376000.0   \n",
       "2           564778.0          2016.0               479489.0   \n",
       "3           145143.0          2016.0                36225.0   \n",
       "4           773303.0          2016.0               496619.0   \n",
       "\n",
       "   censustractandblock  logerror  transactiondate        propertylandusedesc  \\\n",
       "0         6.059063e+13  0.025595       2017-01-01  Single Family Residential   \n",
       "1         6.111001e+13  0.055619       2017-01-01  Single Family Residential   \n",
       "2         6.059022e+13  0.005383       2017-01-01  Single Family Residential   \n",
       "3         6.037300e+13 -0.103410       2017-01-01  Single Family Residential   \n",
       "4         6.037461e+13 -0.001011       2017-01-01  Single Family Residential   \n",
       "\n",
       "   heatingorsystemdesc  \n",
       "0                 None  \n",
       "1                 None  \n",
       "2                 None  \n",
       "3              Central  \n",
       "4              Central  \n",
       "\n",
       "[5 rows x 28 columns]"
      ]
     },
     "execution_count": 2,
     "metadata": {},
     "output_type": "execute_result"
    }
   ],
   "source": [
    "#calling in data\n",
    "df = wrangle_zillow()\n",
    "\n",
    "#removing un-needed columns\n",
    "cols_to_remove = ['heatingorsystemtypeid','parcelid','storytypeid','typeconstructiontypeid','airconditioningtypeid','propertylandusetypeid','architecturalstyletypeid','id','buildingclasstypeid','buildingqualitytypeid','decktypeid','pooltypeid10','pooltypeid2','pooltypeid7','taxamount','taxdelinquencyflag','taxdelinquencyyear','id']\n",
    "df = wrangle.remove_columns(df, cols_to_remove)\n",
    "\n",
    "\n",
    "df = wrangle.handle_missing_values(df)\n",
    "\n",
    "df.head()"
   ]
  },
  {
   "cell_type": "code",
   "execution_count": 3,
   "id": "01689aae",
   "metadata": {},
   "outputs": [
    {
     "name": "stdout",
     "output_type": "stream",
     "text": [
      "<class 'pandas.core.frame.DataFrame'>\n",
      "Int64Index: 52375 entries, 0 to 52440\n",
      "Data columns (total 28 columns):\n",
      " #   Column                        Non-Null Count  Dtype  \n",
      "---  ------                        --------------  -----  \n",
      " 0   bathroomcnt                   52375 non-null  float64\n",
      " 1   bedroomcnt                    52375 non-null  float64\n",
      " 2   calculatedbathnbr             52304 non-null  float64\n",
      " 3   calculatedfinishedsquarefeet  52359 non-null  float64\n",
      " 4   finishedsquarefeet12          52194 non-null  float64\n",
      " 5   fips                          52375 non-null  float64\n",
      " 6   fullbathcnt                   52304 non-null  float64\n",
      " 7   latitude                      52375 non-null  float64\n",
      " 8   longitude                     52375 non-null  float64\n",
      " 9   lotsizesquarefeet             52015 non-null  float64\n",
      " 10  propertycountylandusecode     52375 non-null  object \n",
      " 11  propertyzoningdesc            33836 non-null  object \n",
      " 12  rawcensustractandblock        52375 non-null  float64\n",
      " 13  regionidcity                  51344 non-null  float64\n",
      " 14  regionidcounty                52375 non-null  float64\n",
      " 15  regionidzip                   52352 non-null  float64\n",
      " 16  roomcnt                       52375 non-null  float64\n",
      " 17  unitcnt                       33847 non-null  float64\n",
      " 18  yearbuilt                     52325 non-null  float64\n",
      " 19  structuretaxvaluedollarcnt    52300 non-null  float64\n",
      " 20  taxvaluedollarcnt             52374 non-null  float64\n",
      " 21  assessmentyear                52375 non-null  float64\n",
      " 22  landtaxvaluedollarcnt         52374 non-null  float64\n",
      " 23  censustractandblock           52261 non-null  float64\n",
      " 24  logerror                      52375 non-null  float64\n",
      " 25  transactiondate               52375 non-null  object \n",
      " 26  propertylandusedesc           52375 non-null  object \n",
      " 27  heatingorsystemdesc           33935 non-null  object \n",
      "dtypes: float64(23), object(5)\n",
      "memory usage: 11.6+ MB\n"
     ]
    }
   ],
   "source": [
    "df.info()"
   ]
  },
  {
   "cell_type": "code",
   "execution_count": 4,
   "id": "82edafa9",
   "metadata": {},
   "outputs": [
    {
     "data": {
      "text/plain": [
       "bathroomcnt                         0\n",
       "bedroomcnt                          0\n",
       "calculatedbathnbr                  71\n",
       "calculatedfinishedsquarefeet       16\n",
       "finishedsquarefeet12              181\n",
       "fips                                0\n",
       "fullbathcnt                        71\n",
       "latitude                            0\n",
       "longitude                           0\n",
       "lotsizesquarefeet                 360\n",
       "propertycountylandusecode           0\n",
       "propertyzoningdesc              18539\n",
       "rawcensustractandblock              0\n",
       "regionidcity                     1031\n",
       "regionidcounty                      0\n",
       "regionidzip                        23\n",
       "roomcnt                             0\n",
       "unitcnt                         18528\n",
       "yearbuilt                          50\n",
       "structuretaxvaluedollarcnt         75\n",
       "taxvaluedollarcnt                   1\n",
       "assessmentyear                      0\n",
       "landtaxvaluedollarcnt               1\n",
       "censustractandblock               114\n",
       "logerror                            0\n",
       "transactiondate                     0\n",
       "propertylandusedesc                 0\n",
       "heatingorsystemdesc             18440\n",
       "dtype: int64"
      ]
     },
     "execution_count": 4,
     "metadata": {},
     "output_type": "execute_result"
    }
   ],
   "source": [
    "df.isnull().sum()"
   ]
  },
  {
   "cell_type": "code",
   "execution_count": 5,
   "id": "ff7a8c97",
   "metadata": {},
   "outputs": [],
   "source": [
    "#note: will just drop nulls for now as some are so small it doesn't matter, and others are so large, it would \n",
    "#be hard to determine where to put (doesn't quite fit in mean)\n",
    "\n",
    "#df=df.dropna(subset=['calculatedfinishedsquarefeet','finishedsquarefeet12','yearbuilt','structuretaxvaluedollarcnt','taxvaluedollarcnt','landtaxvaluedollarcnt','censustractandblock','propertyzoningdesc','heatingorsystemdesc'])\n",
    "#df.isnull().sum()"
   ]
  },
  {
   "cell_type": "code",
   "execution_count": 6,
   "id": "c9e580d2",
   "metadata": {},
   "outputs": [],
   "source": [
    "from sklearn.model_selection import train_test_split\n",
    "\n",
    "def split_data(df):\n",
    "    '''\n",
    "    take in a DataFrame and return train, validate, and test DataFrames; stratify on taxvaluedollarcnt.\n",
    "    return train, validate, test DataFrames.\n",
    "    '''\n",
    "\n",
    "\n",
    "    train_validate, test = train_test_split(df, test_size=.2, random_state=123, stratify = df.fips)\n",
    "    train, validate = train_test_split(train_validate, \n",
    "                                       test_size=.3, \n",
    "                                       random_state=123)\n",
    "    return train, validate, test\n",
    "\n",
    "train, validate, test = split_data(df)"
   ]
  },
  {
   "cell_type": "markdown",
   "id": "d999c9fb",
   "metadata": {},
   "source": [
    "> # Questions:\n",
    "\n",
    "- 1) What is the distribution of each variable?\n",
    "- 2) Is logerror significantly different for properties in LA County vs Orange County vs Ventura County?\n",
    "- 3) Is logerror different between number of baths vs bedroom vs squarefeet?\n",
    "- 4) Is logerror different when it comes to lotsize?\n",
    "- 5) Does logerror match/relate to taxvaluedollar amount?"
   ]
  },
  {
   "cell_type": "markdown",
   "id": "7b5bea2e",
   "metadata": {},
   "source": [
    "># Answer the Questions\n",
    "\n",
    "## Question 1):\n",
    "What is the distribution of each variable?"
   ]
  },
  {
   "cell_type": "code",
   "execution_count": 7,
   "id": "7c6346d6",
   "metadata": {},
   "outputs": [
    {
     "data": {
      "image/png": "[encoded data removed]",
      "text/plain": [
       "<Figure size 288x144 with 1 Axes>"
      ]
     },
     "metadata": {
      "needs_background": "light"
     },
     "output_type": "display_data"
    },
    {
     "data": {
      "image/png": "[encoded data removed]",
      "text/plain": [
       "<Figure size 288x144 with 1 Axes>"
      ]
     },
     "metadata": {
      "needs_background": "light"
     },
     "output_type": "display_data"
    },
    {
     "data": {
      "image/png": "[encoded data removed]",
      "text/plain": [
       "<Figure size 288x144 with 1 Axes>"
      ]
     },
     "metadata": {
      "needs_background": "light"
     },
     "output_type": "display_data"
    },
    {
     "data": {
      "image/png": "[encoded data removed]",
      "text/plain": [
       "<Figure size 288x144 with 1 Axes>"
      ]
     },
     "metadata": {
      "needs_background": "light"
     },
     "output_type": "display_data"
    },
    {
     "data": {
      "image/png": "[encoded data removed]",
      "text/plain": [
       "<Figure size 288x144 with 1 Axes>"
      ]
     },
     "metadata": {
      "needs_background": "light"
     },
     "output_type": "display_data"
    },
    {
     "data": {
      "image/png": "[encoded data removed]",
      "text/plain": [
       "<Figure size 288x144 with 1 Axes>"
      ]
     },
     "metadata": {
      "needs_background": "light"
     },
     "output_type": "display_data"
    },
    {
     "data": {
      "image/png": "[encoded data removed]",
      "text/plain": [
       "<Figure size 288x144 with 1 Axes>"
      ]
     },
     "metadata": {
      "needs_background": "light"
     },
     "output_type": "display_data"
    },
    {
     "data": {
      "image/png": "[encoded data removed]",
      "text/plain": [
       "<Figure size 288x144 with 1 Axes>"
      ]
     },
     "metadata": {
      "needs_background": "light"
     },
     "output_type": "display_data"
    },
    {
     "data": {
      "image/png": "[encoded data removed]",
      "text/plain": [
       "<Figure size 288x144 with 1 Axes>"
      ]
     },
     "metadata": {
      "needs_background": "light"
     },
     "output_type": "display_data"
    },
    {
     "data": {
      "image/png": "[encoded data removed]",
      "text/plain": [
       "<Figure size 288x144 with 1 Axes>"
      ]
     },
     "metadata": {
      "needs_background": "light"
     },
     "output_type": "display_data"
    },
    {
     "data": {
      "image/png": "[encoded data removed]",
      "text/plain": [
       "<Figure size 288x144 with 1 Axes>"
      ]
     },
     "metadata": {
      "needs_background": "light"
     },
     "output_type": "display_data"
    },
    {
     "ename": "TypeError",
     "evalue": "'<=' not supported between instances of 'NoneType' and 'NoneType'",
     "output_type": "error",
     "traceback": [
      "\u001b[0;31m---------------------------------------------------------------------------\u001b[0m",
      "\u001b[0;31mTypeError\u001b[0m                                 Traceback (most recent call last)",
      "\u001b[0;32m/var/folders/d3/11nygz6126ndxvtrp12687680000gn/T/ipykernel_73463/2618054717.py\u001b[0m in \u001b[0;36m<module>\u001b[0;34m\u001b[0m\n\u001b[1;32m      2\u001b[0m \u001b[0;32mfor\u001b[0m \u001b[0mcol\u001b[0m \u001b[0;32min\u001b[0m \u001b[0mtrain\u001b[0m\u001b[0;34m.\u001b[0m\u001b[0mcolumns\u001b[0m\u001b[0;34m:\u001b[0m\u001b[0;34m\u001b[0m\u001b[0;34m\u001b[0m\u001b[0m\n\u001b[1;32m      3\u001b[0m     \u001b[0mplt\u001b[0m\u001b[0;34m.\u001b[0m\u001b[0mfigure\u001b[0m\u001b[0;34m(\u001b[0m\u001b[0mfigsize\u001b[0m\u001b[0;34m=\u001b[0m\u001b[0;34m(\u001b[0m\u001b[0;36m4\u001b[0m\u001b[0;34m,\u001b[0m\u001b[0;36m2\u001b[0m\u001b[0;34m)\u001b[0m\u001b[0;34m)\u001b[0m\u001b[0;34m\u001b[0m\u001b[0;34m\u001b[0m\u001b[0m\n\u001b[0;32m----> 4\u001b[0;31m     \u001b[0mplt\u001b[0m\u001b[0;34m.\u001b[0m\u001b[0mhist\u001b[0m\u001b[0;34m(\u001b[0m\u001b[0mtrain\u001b[0m\u001b[0;34m[\u001b[0m\u001b[0mcol\u001b[0m\u001b[0;34m]\u001b[0m\u001b[0;34m)\u001b[0m\u001b[0;34m\u001b[0m\u001b[0;34m\u001b[0m\u001b[0m\n\u001b[0m\u001b[1;32m      5\u001b[0m     \u001b[0mplt\u001b[0m\u001b[0;34m.\u001b[0m\u001b[0mtitle\u001b[0m\u001b[0;34m(\u001b[0m\u001b[0mcol\u001b[0m\u001b[0;34m)\u001b[0m\u001b[0;34m\u001b[0m\u001b[0;34m\u001b[0m\u001b[0m\n\u001b[1;32m      6\u001b[0m     \u001b[0mplt\u001b[0m\u001b[0;34m.\u001b[0m\u001b[0mshow\u001b[0m\u001b[0;34m(\u001b[0m\u001b[0;34m)\u001b[0m\u001b[0;34m\u001b[0m\u001b[0;34m\u001b[0m\u001b[0m\n",
      "\u001b[0;32m/usr/local/anaconda3/lib/python3.9/site-packages/matplotlib/pyplot.py\u001b[0m in \u001b[0;36mhist\u001b[0;34m(x, bins, range, density, weights, cumulative, bottom, histtype, align, orientation, rwidth, log, color, label, stacked, data, **kwargs)\u001b[0m\n\u001b[1;32m   2851\u001b[0m         \u001b[0morientation\u001b[0m\u001b[0;34m=\u001b[0m\u001b[0;34m'vertical'\u001b[0m\u001b[0;34m,\u001b[0m \u001b[0mrwidth\u001b[0m\u001b[0;34m=\u001b[0m\u001b[0;32mNone\u001b[0m\u001b[0;34m,\u001b[0m \u001b[0mlog\u001b[0m\u001b[0;34m=\u001b[0m\u001b[0;32mFalse\u001b[0m\u001b[0;34m,\u001b[0m \u001b[0mcolor\u001b[0m\u001b[0;34m=\u001b[0m\u001b[0;32mNone\u001b[0m\u001b[0;34m,\u001b[0m\u001b[0;34m\u001b[0m\u001b[0;34m\u001b[0m\u001b[0m\n\u001b[1;32m   2852\u001b[0m         label=None, stacked=False, *, data=None, **kwargs):\n\u001b[0;32m-> 2853\u001b[0;31m     return gca().hist(\n\u001b[0m\u001b[1;32m   2854\u001b[0m         \u001b[0mx\u001b[0m\u001b[0;34m,\u001b[0m \u001b[0mbins\u001b[0m\u001b[0;34m=\u001b[0m\u001b[0mbins\u001b[0m\u001b[0;34m,\u001b[0m \u001b[0mrange\u001b[0m\u001b[0;34m=\u001b[0m\u001b[0mrange\u001b[0m\u001b[0;34m,\u001b[0m \u001b[0mdensity\u001b[0m\u001b[0;34m=\u001b[0m\u001b[0mdensity\u001b[0m\u001b[0;34m,\u001b[0m \u001b[0mweights\u001b[0m\u001b[0;34m=\u001b[0m\u001b[0mweights\u001b[0m\u001b[0;34m,\u001b[0m\u001b[0;34m\u001b[0m\u001b[0;34m\u001b[0m\u001b[0m\n\u001b[1;32m   2855\u001b[0m         \u001b[0mcumulative\u001b[0m\u001b[0;34m=\u001b[0m\u001b[0mcumulative\u001b[0m\u001b[0;34m,\u001b[0m \u001b[0mbottom\u001b[0m\u001b[0;34m=\u001b[0m\u001b[0mbottom\u001b[0m\u001b[0;34m,\u001b[0m \u001b[0mhisttype\u001b[0m\u001b[0;34m=\u001b[0m\u001b[0mhisttype\u001b[0m\u001b[0;34m,\u001b[0m\u001b[0;34m\u001b[0m\u001b[0;34m\u001b[0m\u001b[0m\n",
      "\u001b[0;32m/usr/local/anaconda3/lib/python3.9/site-packages/matplotlib/__init__.py\u001b[0m in \u001b[0;36minner\u001b[0;34m(ax, data, *args, **kwargs)\u001b[0m\n\u001b[1;32m   1359\u001b[0m     \u001b[0;32mdef\u001b[0m \u001b[0minner\u001b[0m\u001b[0;34m(\u001b[0m\u001b[0max\u001b[0m\u001b[0;34m,\u001b[0m \u001b[0;34m*\u001b[0m\u001b[0margs\u001b[0m\u001b[0;34m,\u001b[0m \u001b[0mdata\u001b[0m\u001b[0;34m=\u001b[0m\u001b[0;32mNone\u001b[0m\u001b[0;34m,\u001b[0m \u001b[0;34m**\u001b[0m\u001b[0mkwargs\u001b[0m\u001b[0;34m)\u001b[0m\u001b[0;34m:\u001b[0m\u001b[0;34m\u001b[0m\u001b[0;34m\u001b[0m\u001b[0m\n\u001b[1;32m   1360\u001b[0m         \u001b[0;32mif\u001b[0m \u001b[0mdata\u001b[0m \u001b[0;32mis\u001b[0m \u001b[0;32mNone\u001b[0m\u001b[0;34m:\u001b[0m\u001b[0;34m\u001b[0m\u001b[0;34m\u001b[0m\u001b[0m\n\u001b[0;32m-> 1361\u001b[0;31m             \u001b[0;32mreturn\u001b[0m \u001b[0mfunc\u001b[0m\u001b[0;34m(\u001b[0m\u001b[0max\u001b[0m\u001b[0;34m,\u001b[0m \u001b[0;34m*\u001b[0m\u001b[0mmap\u001b[0m\u001b[0;34m(\u001b[0m\u001b[0msanitize_sequence\u001b[0m\u001b[0;34m,\u001b[0m \u001b[0margs\u001b[0m\u001b[0;34m)\u001b[0m\u001b[0;34m,\u001b[0m \u001b[0;34m**\u001b[0m\u001b[0mkwargs\u001b[0m\u001b[0;34m)\u001b[0m\u001b[0;34m\u001b[0m\u001b[0;34m\u001b[0m\u001b[0m\n\u001b[0m\u001b[1;32m   1362\u001b[0m \u001b[0;34m\u001b[0m\u001b[0m\n\u001b[1;32m   1363\u001b[0m         \u001b[0mbound\u001b[0m \u001b[0;34m=\u001b[0m \u001b[0mnew_sig\u001b[0m\u001b[0;34m.\u001b[0m\u001b[0mbind\u001b[0m\u001b[0;34m(\u001b[0m\u001b[0max\u001b[0m\u001b[0;34m,\u001b[0m \u001b[0;34m*\u001b[0m\u001b[0margs\u001b[0m\u001b[0;34m,\u001b[0m \u001b[0;34m**\u001b[0m\u001b[0mkwargs\u001b[0m\u001b[0;34m)\u001b[0m\u001b[0;34m\u001b[0m\u001b[0;34m\u001b[0m\u001b[0m\n",
      "\u001b[0;32m/usr/local/anaconda3/lib/python3.9/site-packages/matplotlib/axes/_axes.py\u001b[0m in \u001b[0;36mhist\u001b[0;34m(self, x, bins, range, density, weights, cumulative, bottom, histtype, align, orientation, rwidth, log, color, label, stacked, **kwargs)\u001b[0m\n\u001b[1;32m   6729\u001b[0m                     \u001b[0;31m# python's min/max ignore nan,\u001b[0m\u001b[0;34m\u001b[0m\u001b[0;34m\u001b[0m\u001b[0m\n\u001b[1;32m   6730\u001b[0m                     \u001b[0;31m# np.minnan returns nan for all nan input\u001b[0m\u001b[0;34m\u001b[0m\u001b[0;34m\u001b[0m\u001b[0m\n\u001b[0;32m-> 6731\u001b[0;31m                     \u001b[0mxmin\u001b[0m \u001b[0;34m=\u001b[0m \u001b[0mmin\u001b[0m\u001b[0;34m(\u001b[0m\u001b[0mxmin\u001b[0m\u001b[0;34m,\u001b[0m \u001b[0mnp\u001b[0m\u001b[0;34m.\u001b[0m\u001b[0mnanmin\u001b[0m\u001b[0;34m(\u001b[0m\u001b[0mxi\u001b[0m\u001b[0;34m)\u001b[0m\u001b[0;34m)\u001b[0m\u001b[0;34m\u001b[0m\u001b[0;34m\u001b[0m\u001b[0m\n\u001b[0m\u001b[1;32m   6732\u001b[0m                     \u001b[0mxmax\u001b[0m \u001b[0;34m=\u001b[0m \u001b[0mmax\u001b[0m\u001b[0;34m(\u001b[0m\u001b[0mxmax\u001b[0m\u001b[0;34m,\u001b[0m \u001b[0mnp\u001b[0m\u001b[0;34m.\u001b[0m\u001b[0mnanmax\u001b[0m\u001b[0;34m(\u001b[0m\u001b[0mxi\u001b[0m\u001b[0;34m)\u001b[0m\u001b[0;34m)\u001b[0m\u001b[0;34m\u001b[0m\u001b[0;34m\u001b[0m\u001b[0m\n\u001b[1;32m   6733\u001b[0m             \u001b[0;32mif\u001b[0m \u001b[0mxmin\u001b[0m \u001b[0;34m<=\u001b[0m \u001b[0mxmax\u001b[0m\u001b[0;34m:\u001b[0m  \u001b[0;31m# Only happens if we have seen a finite value.\u001b[0m\u001b[0;34m\u001b[0m\u001b[0;34m\u001b[0m\u001b[0m\n",
      "\u001b[0;32m<__array_function__ internals>\u001b[0m in \u001b[0;36mnanmin\u001b[0;34m(*args, **kwargs)\u001b[0m\n",
      "\u001b[0;32m/usr/local/anaconda3/lib/python3.9/site-packages/numpy/lib/nanfunctions.py\u001b[0m in \u001b[0;36mnanmin\u001b[0;34m(a, axis, out, keepdims)\u001b[0m\n\u001b[1;32m    324\u001b[0m         \u001b[0;31m# Slow, but safe for subclasses of ndarray\u001b[0m\u001b[0;34m\u001b[0m\u001b[0;34m\u001b[0m\u001b[0m\n\u001b[1;32m    325\u001b[0m         \u001b[0ma\u001b[0m\u001b[0;34m,\u001b[0m \u001b[0mmask\u001b[0m \u001b[0;34m=\u001b[0m \u001b[0m_replace_nan\u001b[0m\u001b[0;34m(\u001b[0m\u001b[0ma\u001b[0m\u001b[0;34m,\u001b[0m \u001b[0;34m+\u001b[0m\u001b[0mnp\u001b[0m\u001b[0;34m.\u001b[0m\u001b[0minf\u001b[0m\u001b[0;34m)\u001b[0m\u001b[0;34m\u001b[0m\u001b[0;34m\u001b[0m\u001b[0m\n\u001b[0;32m--> 326\u001b[0;31m         \u001b[0mres\u001b[0m \u001b[0;34m=\u001b[0m \u001b[0mnp\u001b[0m\u001b[0;34m.\u001b[0m\u001b[0mamin\u001b[0m\u001b[0;34m(\u001b[0m\u001b[0ma\u001b[0m\u001b[0;34m,\u001b[0m \u001b[0maxis\u001b[0m\u001b[0;34m=\u001b[0m\u001b[0maxis\u001b[0m\u001b[0;34m,\u001b[0m \u001b[0mout\u001b[0m\u001b[0;34m=\u001b[0m\u001b[0mout\u001b[0m\u001b[0;34m,\u001b[0m \u001b[0;34m**\u001b[0m\u001b[0mkwargs\u001b[0m\u001b[0;34m)\u001b[0m\u001b[0;34m\u001b[0m\u001b[0;34m\u001b[0m\u001b[0m\n\u001b[0m\u001b[1;32m    327\u001b[0m         \u001b[0;32mif\u001b[0m \u001b[0mmask\u001b[0m \u001b[0;32mis\u001b[0m \u001b[0;32mNone\u001b[0m\u001b[0;34m:\u001b[0m\u001b[0;34m\u001b[0m\u001b[0;34m\u001b[0m\u001b[0m\n\u001b[1;32m    328\u001b[0m             \u001b[0;32mreturn\u001b[0m \u001b[0mres\u001b[0m\u001b[0;34m\u001b[0m\u001b[0;34m\u001b[0m\u001b[0m\n",
      "\u001b[0;32m<__array_function__ internals>\u001b[0m in \u001b[0;36mamin\u001b[0;34m(*args, **kwargs)\u001b[0m\n",
      "\u001b[0;32m/usr/local/anaconda3/lib/python3.9/site-packages/numpy/core/fromnumeric.py\u001b[0m in \u001b[0;36mamin\u001b[0;34m(a, axis, out, keepdims, initial, where)\u001b[0m\n\u001b[1;32m   2856\u001b[0m     \u001b[0;36m6\u001b[0m\u001b[0;34m\u001b[0m\u001b[0;34m\u001b[0m\u001b[0m\n\u001b[1;32m   2857\u001b[0m     \"\"\"\n\u001b[0;32m-> 2858\u001b[0;31m     return _wrapreduction(a, np.minimum, 'min', axis, None, out,\n\u001b[0m\u001b[1;32m   2859\u001b[0m                           keepdims=keepdims, initial=initial, where=where)\n\u001b[1;32m   2860\u001b[0m \u001b[0;34m\u001b[0m\u001b[0m\n",
      "\u001b[0;32m/usr/local/anaconda3/lib/python3.9/site-packages/numpy/core/fromnumeric.py\u001b[0m in \u001b[0;36m_wrapreduction\u001b[0;34m(obj, ufunc, method, axis, dtype, out, **kwargs)\u001b[0m\n\u001b[1;32m     85\u001b[0m                 \u001b[0;32mreturn\u001b[0m \u001b[0mreduction\u001b[0m\u001b[0;34m(\u001b[0m\u001b[0maxis\u001b[0m\u001b[0;34m=\u001b[0m\u001b[0maxis\u001b[0m\u001b[0;34m,\u001b[0m \u001b[0mout\u001b[0m\u001b[0;34m=\u001b[0m\u001b[0mout\u001b[0m\u001b[0;34m,\u001b[0m \u001b[0;34m**\u001b[0m\u001b[0mpasskwargs\u001b[0m\u001b[0;34m)\u001b[0m\u001b[0;34m\u001b[0m\u001b[0;34m\u001b[0m\u001b[0m\n\u001b[1;32m     86\u001b[0m \u001b[0;34m\u001b[0m\u001b[0m\n\u001b[0;32m---> 87\u001b[0;31m     \u001b[0;32mreturn\u001b[0m \u001b[0mufunc\u001b[0m\u001b[0;34m.\u001b[0m\u001b[0mreduce\u001b[0m\u001b[0;34m(\u001b[0m\u001b[0mobj\u001b[0m\u001b[0;34m,\u001b[0m \u001b[0maxis\u001b[0m\u001b[0;34m,\u001b[0m \u001b[0mdtype\u001b[0m\u001b[0;34m,\u001b[0m \u001b[0mout\u001b[0m\u001b[0;34m,\u001b[0m \u001b[0;34m**\u001b[0m\u001b[0mpasskwargs\u001b[0m\u001b[0;34m)\u001b[0m\u001b[0;34m\u001b[0m\u001b[0;34m\u001b[0m\u001b[0m\n\u001b[0m\u001b[1;32m     88\u001b[0m \u001b[0;34m\u001b[0m\u001b[0m\n\u001b[1;32m     89\u001b[0m \u001b[0;34m\u001b[0m\u001b[0m\n",
      "\u001b[0;31mTypeError\u001b[0m: '<=' not supported between instances of 'NoneType' and 'NoneType'"
     ]
    },
    {
     "data": {
      "image/png": "[encoded data removed]",
      "text/plain": [
       "<Figure size 288x144 with 1 Axes>"
      ]
     },
     "metadata": {
      "needs_background": "light"
     },
     "output_type": "display_data"
    }
   ],
   "source": [
    "#create all the histograms:\n",
    "for col in train.columns:\n",
    "    plt.figure(figsize=(4,2))\n",
    "    plt.hist(train[col])\n",
    "    plt.title(col)\n",
    "    plt.show()"
   ]
  },
  {
   "cell_type": "markdown",
   "id": "3f98ecbd",
   "metadata": {},
   "source": [
    "#### Conclusion:\n",
    "- Mostly normally distributed: bedroomcnt, yearbuilt\n",
    "- Skewed right: transactiondate, regionidcity,propertyzoningdesc,latitude,fullbathcnt,finishedsqft,calculatedbathbr,bathcnt"
   ]
  },
  {
   "cell_type": "markdown",
   "id": "aa9bd4fb",
   "metadata": {},
   "source": [
    "__________________________________________________________________________________________________________"
   ]
  },
  {
   "cell_type": "markdown",
   "id": "20aeb6b3",
   "metadata": {},
   "source": [
    "## Question 2):\n",
    "Is logerror significantly different for properties in LA County vs Orange County vs Ventura County?"
   ]
  },
  {
   "cell_type": "code",
   "execution_count": 8,
   "id": "f7d08d0c",
   "metadata": {},
   "outputs": [
    {
     "data": {
      "text/plain": [
       "6037.0    18992\n",
       "6059.0     7861\n",
       "6111.0     2477\n",
       "Name: fips, dtype: int64"
      ]
     },
     "execution_count": 8,
     "metadata": {},
     "output_type": "execute_result"
    }
   ],
   "source": [
    "train.fips.value_counts()"
   ]
  },
  {
   "cell_type": "markdown",
   "id": "46105523",
   "metadata": {},
   "source": [
    "#### Just a reminder: \n",
    "- 6037 = Los Angeles County\n",
    "- 6059 = Orange County\n",
    "- 6111 = Ventura County"
   ]
  },
  {
   "cell_type": "code",
   "execution_count": 9,
   "id": "1c9dee7d",
   "metadata": {},
   "outputs": [
    {
     "data": {
      "image/png": "[encoded data removed]",
      "text/plain": [
       "<Figure size 432x288 with 1 Axes>"
      ]
     },
     "metadata": {
      "needs_background": "light"
     },
     "output_type": "display_data"
    }
   ],
   "source": [
    "#plotting fips to logerror\n",
    "sample = train.sample(50)\n",
    "sns.boxplot(sample.fips, sample.logerror)\n",
    "plt.title(\"Is there a difference in county for logerrors?\")\n",
    "plt.show()"
   ]
  },
  {
   "cell_type": "markdown",
   "id": "2f4e256c",
   "metadata": {},
   "source": [
    "#### Take away: The plot doesn't really show anything conclusive. "
   ]
  },
  {
   "cell_type": "markdown",
   "id": "dea501c5",
   "metadata": {},
   "source": [
    "### Encoding county/fips code:"
   ]
  },
  {
   "cell_type": "code",
   "execution_count": 10,
   "id": "09f889e7",
   "metadata": {},
   "outputs": [
    {
     "data": {
      "text/html": [
       "<div>\n",
       "<style scoped>\n",
       "    .dataframe tbody tr th:only-of-type {\n",
       "        vertical-align: middle;\n",
       "    }\n",
       "\n",
       "    .dataframe tbody tr th {\n",
       "        vertical-align: top;\n",
       "    }\n",
       "\n",
       "    .dataframe thead th {\n",
       "        text-align: right;\n",
       "    }\n",
       "</style>\n",
       "<table border=\"1\" class=\"dataframe\">\n",
       "  <thead>\n",
       "    <tr style=\"text-align: right;\">\n",
       "      <th></th>\n",
       "      <th>bathroomcnt</th>\n",
       "      <th>bedroomcnt</th>\n",
       "      <th>calculatedbathnbr</th>\n",
       "      <th>calculatedfinishedsquarefeet</th>\n",
       "      <th>finishedsquarefeet12</th>\n",
       "      <th>fips</th>\n",
       "      <th>fullbathcnt</th>\n",
       "      <th>latitude</th>\n",
       "      <th>longitude</th>\n",
       "      <th>lotsizesquarefeet</th>\n",
       "      <th>...</th>\n",
       "      <th>structuretaxvaluedollarcnt</th>\n",
       "      <th>taxvaluedollarcnt</th>\n",
       "      <th>assessmentyear</th>\n",
       "      <th>landtaxvaluedollarcnt</th>\n",
       "      <th>censustractandblock</th>\n",
       "      <th>logerror</th>\n",
       "      <th>transactiondate</th>\n",
       "      <th>propertylandusedesc</th>\n",
       "      <th>heatingorsystemdesc</th>\n",
       "      <th>is_Los_Angeles</th>\n",
       "    </tr>\n",
       "  </thead>\n",
       "  <tbody>\n",
       "    <tr>\n",
       "      <th>33280</th>\n",
       "      <td>4.0</td>\n",
       "      <td>5.0</td>\n",
       "      <td>4.0</td>\n",
       "      <td>3329.0</td>\n",
       "      <td>3329.0</td>\n",
       "      <td>6059.0</td>\n",
       "      <td>4.0</td>\n",
       "      <td>33559283.0</td>\n",
       "      <td>-117694244.0</td>\n",
       "      <td>5500.0</td>\n",
       "      <td>...</td>\n",
       "      <td>443036.0</td>\n",
       "      <td>1352000.0</td>\n",
       "      <td>2016.0</td>\n",
       "      <td>908964.0</td>\n",
       "      <td>6.059042e+13</td>\n",
       "      <td>0.112788</td>\n",
       "      <td>2017-06-22</td>\n",
       "      <td>Single Family Residential</td>\n",
       "      <td>None</td>\n",
       "      <td>False</td>\n",
       "    </tr>\n",
       "    <tr>\n",
       "      <th>10940</th>\n",
       "      <td>3.0</td>\n",
       "      <td>4.0</td>\n",
       "      <td>3.0</td>\n",
       "      <td>2728.0</td>\n",
       "      <td>2728.0</td>\n",
       "      <td>6059.0</td>\n",
       "      <td>3.0</td>\n",
       "      <td>33896471.0</td>\n",
       "      <td>-117961310.0</td>\n",
       "      <td>6380.0</td>\n",
       "      <td>...</td>\n",
       "      <td>194878.0</td>\n",
       "      <td>800250.0</td>\n",
       "      <td>2016.0</td>\n",
       "      <td>605372.0</td>\n",
       "      <td>6.059002e+13</td>\n",
       "      <td>-0.034496</td>\n",
       "      <td>2017-03-10</td>\n",
       "      <td>Single Family Residential</td>\n",
       "      <td>None</td>\n",
       "      <td>False</td>\n",
       "    </tr>\n",
       "    <tr>\n",
       "      <th>38660</th>\n",
       "      <td>3.0</td>\n",
       "      <td>6.0</td>\n",
       "      <td>3.0</td>\n",
       "      <td>2000.0</td>\n",
       "      <td>2000.0</td>\n",
       "      <td>6059.0</td>\n",
       "      <td>3.0</td>\n",
       "      <td>33806530.0</td>\n",
       "      <td>-117965666.0</td>\n",
       "      <td>7192.0</td>\n",
       "      <td>...</td>\n",
       "      <td>117589.0</td>\n",
       "      <td>380019.0</td>\n",
       "      <td>2016.0</td>\n",
       "      <td>262430.0</td>\n",
       "      <td>6.059088e+13</td>\n",
       "      <td>-0.018956</td>\n",
       "      <td>2017-07-14</td>\n",
       "      <td>Single Family Residential</td>\n",
       "      <td>None</td>\n",
       "      <td>False</td>\n",
       "    </tr>\n",
       "    <tr>\n",
       "      <th>41136</th>\n",
       "      <td>1.0</td>\n",
       "      <td>2.0</td>\n",
       "      <td>1.0</td>\n",
       "      <td>900.0</td>\n",
       "      <td>900.0</td>\n",
       "      <td>6037.0</td>\n",
       "      <td>1.0</td>\n",
       "      <td>34109067.0</td>\n",
       "      <td>-118075654.0</td>\n",
       "      <td>5800.0</td>\n",
       "      <td>...</td>\n",
       "      <td>106203.0</td>\n",
       "      <td>455132.0</td>\n",
       "      <td>2016.0</td>\n",
       "      <td>348929.0</td>\n",
       "      <td>6.037480e+13</td>\n",
       "      <td>-0.161203</td>\n",
       "      <td>2017-07-26</td>\n",
       "      <td>Single Family Residential</td>\n",
       "      <td>Floor/Wall</td>\n",
       "      <td>True</td>\n",
       "    </tr>\n",
       "    <tr>\n",
       "      <th>25639</th>\n",
       "      <td>1.0</td>\n",
       "      <td>3.0</td>\n",
       "      <td>1.0</td>\n",
       "      <td>996.0</td>\n",
       "      <td>996.0</td>\n",
       "      <td>6037.0</td>\n",
       "      <td>1.0</td>\n",
       "      <td>34708886.0</td>\n",
       "      <td>-118141755.0</td>\n",
       "      <td>6014.0</td>\n",
       "      <td>...</td>\n",
       "      <td>86296.0</td>\n",
       "      <td>115738.0</td>\n",
       "      <td>2016.0</td>\n",
       "      <td>29442.0</td>\n",
       "      <td>6.037901e+13</td>\n",
       "      <td>-0.286603</td>\n",
       "      <td>2017-05-19</td>\n",
       "      <td>Single Family Residential</td>\n",
       "      <td>Floor/Wall</td>\n",
       "      <td>True</td>\n",
       "    </tr>\n",
       "    <tr>\n",
       "      <th>...</th>\n",
       "      <td>...</td>\n",
       "      <td>...</td>\n",
       "      <td>...</td>\n",
       "      <td>...</td>\n",
       "      <td>...</td>\n",
       "      <td>...</td>\n",
       "      <td>...</td>\n",
       "      <td>...</td>\n",
       "      <td>...</td>\n",
       "      <td>...</td>\n",
       "      <td>...</td>\n",
       "      <td>...</td>\n",
       "      <td>...</td>\n",
       "      <td>...</td>\n",
       "      <td>...</td>\n",
       "      <td>...</td>\n",
       "      <td>...</td>\n",
       "      <td>...</td>\n",
       "      <td>...</td>\n",
       "      <td>...</td>\n",
       "      <td>...</td>\n",
       "    </tr>\n",
       "    <tr>\n",
       "      <th>19162</th>\n",
       "      <td>1.0</td>\n",
       "      <td>3.0</td>\n",
       "      <td>1.0</td>\n",
       "      <td>1144.0</td>\n",
       "      <td>1144.0</td>\n",
       "      <td>6037.0</td>\n",
       "      <td>1.0</td>\n",
       "      <td>34169000.0</td>\n",
       "      <td>-118283000.0</td>\n",
       "      <td>6280.0</td>\n",
       "      <td>...</td>\n",
       "      <td>107694.0</td>\n",
       "      <td>538475.0</td>\n",
       "      <td>2016.0</td>\n",
       "      <td>430781.0</td>\n",
       "      <td>6.037302e+13</td>\n",
       "      <td>-0.148739</td>\n",
       "      <td>2017-04-21</td>\n",
       "      <td>Single Family Residential</td>\n",
       "      <td>Floor/Wall</td>\n",
       "      <td>True</td>\n",
       "    </tr>\n",
       "    <tr>\n",
       "      <th>45339</th>\n",
       "      <td>3.0</td>\n",
       "      <td>3.0</td>\n",
       "      <td>3.0</td>\n",
       "      <td>2043.0</td>\n",
       "      <td>2043.0</td>\n",
       "      <td>6111.0</td>\n",
       "      <td>3.0</td>\n",
       "      <td>34213034.0</td>\n",
       "      <td>-118863825.0</td>\n",
       "      <td>10183.0</td>\n",
       "      <td>...</td>\n",
       "      <td>211765.0</td>\n",
       "      <td>605785.0</td>\n",
       "      <td>2016.0</td>\n",
       "      <td>394020.0</td>\n",
       "      <td>6.111007e+13</td>\n",
       "      <td>-0.018387</td>\n",
       "      <td>2017-08-16</td>\n",
       "      <td>Single Family Residential</td>\n",
       "      <td>None</td>\n",
       "      <td>False</td>\n",
       "    </tr>\n",
       "    <tr>\n",
       "      <th>22467</th>\n",
       "      <td>1.0</td>\n",
       "      <td>1.0</td>\n",
       "      <td>1.0</td>\n",
       "      <td>856.0</td>\n",
       "      <td>856.0</td>\n",
       "      <td>6037.0</td>\n",
       "      <td>1.0</td>\n",
       "      <td>33977476.0</td>\n",
       "      <td>-118284144.0</td>\n",
       "      <td>2202.0</td>\n",
       "      <td>...</td>\n",
       "      <td>67500.0</td>\n",
       "      <td>263400.0</td>\n",
       "      <td>2016.0</td>\n",
       "      <td>195900.0</td>\n",
       "      <td>6.037238e+13</td>\n",
       "      <td>-0.011034</td>\n",
       "      <td>2017-05-05</td>\n",
       "      <td>Single Family Residential</td>\n",
       "      <td>None</td>\n",
       "      <td>True</td>\n",
       "    </tr>\n",
       "    <tr>\n",
       "      <th>31201</th>\n",
       "      <td>2.0</td>\n",
       "      <td>3.0</td>\n",
       "      <td>2.0</td>\n",
       "      <td>1694.0</td>\n",
       "      <td>1694.0</td>\n",
       "      <td>6037.0</td>\n",
       "      <td>2.0</td>\n",
       "      <td>34658957.0</td>\n",
       "      <td>-118379263.0</td>\n",
       "      <td>NaN</td>\n",
       "      <td>...</td>\n",
       "      <td>112553.0</td>\n",
       "      <td>161253.0</td>\n",
       "      <td>2016.0</td>\n",
       "      <td>48700.0</td>\n",
       "      <td>NaN</td>\n",
       "      <td>0.012229</td>\n",
       "      <td>2017-06-14</td>\n",
       "      <td>Single Family Residential</td>\n",
       "      <td>Central</td>\n",
       "      <td>True</td>\n",
       "    </tr>\n",
       "    <tr>\n",
       "      <th>22395</th>\n",
       "      <td>3.0</td>\n",
       "      <td>3.0</td>\n",
       "      <td>3.0</td>\n",
       "      <td>2698.0</td>\n",
       "      <td>2698.0</td>\n",
       "      <td>6037.0</td>\n",
       "      <td>3.0</td>\n",
       "      <td>34558520.0</td>\n",
       "      <td>-118179341.0</td>\n",
       "      <td>16940.0</td>\n",
       "      <td>...</td>\n",
       "      <td>238690.0</td>\n",
       "      <td>318425.0</td>\n",
       "      <td>2016.0</td>\n",
       "      <td>79735.0</td>\n",
       "      <td>6.037910e+13</td>\n",
       "      <td>0.005928</td>\n",
       "      <td>2017-05-05</td>\n",
       "      <td>Single Family Residential</td>\n",
       "      <td>Central</td>\n",
       "      <td>True</td>\n",
       "    </tr>\n",
       "  </tbody>\n",
       "</table>\n",
       "<p>29330 rows × 29 columns</p>\n",
       "</div>"
      ],
      "text/plain": [
       "       bathroomcnt  bedroomcnt  calculatedbathnbr  \\\n",
       "33280          4.0         5.0                4.0   \n",
       "10940          3.0         4.0                3.0   \n",
       "38660          3.0         6.0                3.0   \n",
       "41136          1.0         2.0                1.0   \n",
       "25639          1.0         3.0                1.0   \n",
       "...            ...         ...                ...   \n",
       "19162          1.0         3.0                1.0   \n",
       "45339          3.0         3.0                3.0   \n",
       "22467          1.0         1.0                1.0   \n",
       "31201          2.0         3.0                2.0   \n",
       "22395          3.0         3.0                3.0   \n",
       "\n",
       "       calculatedfinishedsquarefeet  finishedsquarefeet12    fips  \\\n",
       "33280                        3329.0                3329.0  6059.0   \n",
       "10940                        2728.0                2728.0  6059.0   \n",
       "38660                        2000.0                2000.0  6059.0   \n",
       "41136                         900.0                 900.0  6037.0   \n",
       "25639                         996.0                 996.0  6037.0   \n",
       "...                             ...                   ...     ...   \n",
       "19162                        1144.0                1144.0  6037.0   \n",
       "45339                        2043.0                2043.0  6111.0   \n",
       "22467                         856.0                 856.0  6037.0   \n",
       "31201                        1694.0                1694.0  6037.0   \n",
       "22395                        2698.0                2698.0  6037.0   \n",
       "\n",
       "       fullbathcnt    latitude    longitude  lotsizesquarefeet  ...  \\\n",
       "33280          4.0  33559283.0 -117694244.0             5500.0  ...   \n",
       "10940          3.0  33896471.0 -117961310.0             6380.0  ...   \n",
       "38660          3.0  33806530.0 -117965666.0             7192.0  ...   \n",
       "41136          1.0  34109067.0 -118075654.0             5800.0  ...   \n",
       "25639          1.0  34708886.0 -118141755.0             6014.0  ...   \n",
       "...            ...         ...          ...                ...  ...   \n",
       "19162          1.0  34169000.0 -118283000.0             6280.0  ...   \n",
       "45339          3.0  34213034.0 -118863825.0            10183.0  ...   \n",
       "22467          1.0  33977476.0 -118284144.0             2202.0  ...   \n",
       "31201          2.0  34658957.0 -118379263.0                NaN  ...   \n",
       "22395          3.0  34558520.0 -118179341.0            16940.0  ...   \n",
       "\n",
       "      structuretaxvaluedollarcnt taxvaluedollarcnt  assessmentyear  \\\n",
       "33280                   443036.0         1352000.0          2016.0   \n",
       "10940                   194878.0          800250.0          2016.0   \n",
       "38660                   117589.0          380019.0          2016.0   \n",
       "41136                   106203.0          455132.0          2016.0   \n",
       "25639                    86296.0          115738.0          2016.0   \n",
       "...                          ...               ...             ...   \n",
       "19162                   107694.0          538475.0          2016.0   \n",
       "45339                   211765.0          605785.0          2016.0   \n",
       "22467                    67500.0          263400.0          2016.0   \n",
       "31201                   112553.0          161253.0          2016.0   \n",
       "22395                   238690.0          318425.0          2016.0   \n",
       "\n",
       "       landtaxvaluedollarcnt  censustractandblock  logerror  transactiondate  \\\n",
       "33280               908964.0         6.059042e+13  0.112788       2017-06-22   \n",
       "10940               605372.0         6.059002e+13 -0.034496       2017-03-10   \n",
       "38660               262430.0         6.059088e+13 -0.018956       2017-07-14   \n",
       "41136               348929.0         6.037480e+13 -0.161203       2017-07-26   \n",
       "25639                29442.0         6.037901e+13 -0.286603       2017-05-19   \n",
       "...                      ...                  ...       ...              ...   \n",
       "19162               430781.0         6.037302e+13 -0.148739       2017-04-21   \n",
       "45339               394020.0         6.111007e+13 -0.018387       2017-08-16   \n",
       "22467               195900.0         6.037238e+13 -0.011034       2017-05-05   \n",
       "31201                48700.0                  NaN  0.012229       2017-06-14   \n",
       "22395                79735.0         6.037910e+13  0.005928       2017-05-05   \n",
       "\n",
       "             propertylandusedesc  heatingorsystemdesc  is_Los_Angeles  \n",
       "33280  Single Family Residential                 None           False  \n",
       "10940  Single Family Residential                 None           False  \n",
       "38660  Single Family Residential                 None           False  \n",
       "41136  Single Family Residential           Floor/Wall            True  \n",
       "25639  Single Family Residential           Floor/Wall            True  \n",
       "...                          ...                  ...             ...  \n",
       "19162  Single Family Residential           Floor/Wall            True  \n",
       "45339  Single Family Residential                 None           False  \n",
       "22467  Single Family Residential                 None            True  \n",
       "31201  Single Family Residential              Central            True  \n",
       "22395  Single Family Residential              Central            True  \n",
       "\n",
       "[29330 rows x 29 columns]"
      ]
     },
     "execution_count": 10,
     "metadata": {},
     "output_type": "execute_result"
    }
   ],
   "source": [
    "#rename columns:\n",
    "def one_hot_encode(train):\n",
    "    train['is_Los_Angeles'] = train.fips == 6037.0\n",
    "    return train\n",
    "\n",
    "one_hot_encode(train)"
   ]
  },
  {
   "cell_type": "code",
   "execution_count": 11,
   "id": "ff1fda95",
   "metadata": {},
   "outputs": [],
   "source": [
    "#need to turn is_Los_Angeles to a boolean\n",
    "train[\"is_Los_Angeles\"] = train[\"is_Los_Angeles\"].astype(int)"
   ]
  },
  {
   "cell_type": "markdown",
   "id": "ffe46e12",
   "metadata": {},
   "source": [
    "#### Levene Test to check the variance of is_Los_Angeles (county/fips) and logerror\n",
    "\n",
    "If p-value > .05, we can say that the variances are not significantly different and set the argument in ttest_ind of equal_var to be True. If p-value < .05, we say the variances are NOT equal and set equal_var to be False."
   ]
  },
  {
   "cell_type": "code",
   "execution_count": 12,
   "id": "d3cd6933",
   "metadata": {},
   "outputs": [
    {
     "data": {
      "text/plain": [
       "LeveneResult(statistic=29.739547920685915, pvalue=4.9814962069025483e-08)"
      ]
     },
     "execution_count": 12,
     "metadata": {},
     "output_type": "execute_result"
    }
   ],
   "source": [
    "#Levene Test:\n",
    "# test the equal variance \n",
    "# H0 is that the variances are equal\n",
    "# our two groups are 1) where train does not equal LA county ==0 and \n",
    "# 2) where train does equal LA county == 1\n",
    "\n",
    "stats.levene(train[train.is_Los_Angeles==0].logerror, \n",
    "             train[train.is_Los_Angeles==1].logerror)\n"
   ]
  },
  {
   "cell_type": "markdown",
   "id": "1a177a8c",
   "metadata": {},
   "source": [
    "#### Levene score is significantly less than pvalue 0.05, so equal_var is False"
   ]
  },
  {
   "cell_type": "markdown",
   "id": "187b9f98",
   "metadata": {},
   "source": [
    "### Moving onto a 2-sample, 2-tailed T-test:"
   ]
  },
  {
   "cell_type": "code",
   "execution_count": 13,
   "id": "f3a7c079",
   "metadata": {},
   "outputs": [
    {
     "data": {
      "text/plain": [
       "Ttest_indResult(statistic=4.318661010939725, pvalue=1.577778378407917e-05)"
      ]
     },
     "execution_count": 13,
     "metadata": {},
     "output_type": "execute_result"
    }
   ],
   "source": [
    "stats.ttest_ind(train[train.is_Los_Angeles==0].logerror, \n",
    "                train[train.is_Los_Angeles==1].logerror, \n",
    "                equal_var=False\n",
    "               )\n"
   ]
  },
  {
   "cell_type": "markdown",
   "id": "21279ae6",
   "metadata": {},
   "source": [
    "### Conclusion: There is a difference in mean logerror across county\n"
   ]
  },
  {
   "cell_type": "markdown",
   "id": "2f90ee09",
   "metadata": {},
   "source": [
    "_________________________________________________________________________________________________________"
   ]
  },
  {
   "cell_type": "markdown",
   "id": "be43ee85",
   "metadata": {},
   "source": [
    "## Question 3):\n",
    "Is there a relationship between number of baths vs squarefeet?"
   ]
  },
  {
   "cell_type": "code",
   "execution_count": 14,
   "id": "6f13fc01",
   "metadata": {},
   "outputs": [
    {
     "data": {
      "text/plain": [
       "2.0     12273\n",
       "3.0      5943\n",
       "1.0      5392\n",
       "2.5      2185\n",
       "4.0      1251\n",
       "3.5       536\n",
       "5.0       454\n",
       "1.5       443\n",
       "4.5       389\n",
       "6.0       188\n",
       "5.5       109\n",
       "7.0        53\n",
       "0.0        31\n",
       "6.5        31\n",
       "8.0        30\n",
       "7.5         8\n",
       "9.0         7\n",
       "11.0        3\n",
       "8.5         2\n",
       "18.0        1\n",
       "10.0        1\n",
       "Name: bathroomcnt, dtype: int64"
      ]
     },
     "execution_count": 14,
     "metadata": {},
     "output_type": "execute_result"
    }
   ],
   "source": [
    "train.bathroomcnt.value_counts()"
   ]
  },
  {
   "cell_type": "code",
   "execution_count": 15,
   "id": "52dc9ed9",
   "metadata": {},
   "outputs": [
    {
     "name": "stdout",
     "output_type": "stream",
     "text": [
      "Is there a relationship\n",
      "between bathroom count and logerror?\n"
     ]
    },
    {
     "data": {
      "image/png": "[encoded data removed]",
      "text/plain": [
       "<Figure size 432x432 with 3 Axes>"
      ]
     },
     "metadata": {
      "needs_background": "light"
     },
     "output_type": "display_data"
    }
   ],
   "source": [
    "#creating a joinplot to see if any linear relationship (also adding in county)\n",
    "sample = train.sample(100)\n",
    "print(\"Is there a relationship\\nbetween bathroom count and logerror?\")\n",
    "sns.jointplot(x=\"bathroomcnt\", y=\"logerror\", data=sample, hue = 'fips')\n",
    "plt.xlabel(\"Bathroomcnt\")\n",
    "plt.ylabel(\"Logerror\")\n",
    "plt.show()"
   ]
  },
  {
   "cell_type": "markdown",
   "id": "9825c7f6",
   "metadata": {},
   "source": [
    "### Conclusion: There does not seem to be a linear relationship between bathroom count and logerror\n"
   ]
  },
  {
   "cell_type": "markdown",
   "id": "5e3f5fee",
   "metadata": {},
   "source": [
    "____________________________________________________________________________________________________________"
   ]
  },
  {
   "cell_type": "markdown",
   "id": "1f051362",
   "metadata": {},
   "source": [
    "## Question 4): \n",
    "Relationship to logerror and lotsize?"
   ]
  },
  {
   "cell_type": "code",
   "execution_count": 16,
   "id": "1996f250",
   "metadata": {},
   "outputs": [
    {
     "name": "stdout",
     "output_type": "stream",
     "text": [
      "Is there a relationship\n",
      "between lot size and logerror?\n"
     ]
    },
    {
     "data": {
      "image/png": "[encoded data removed]",
      "text/plain": [
       "<Figure size 432x432 with 3 Axes>"
      ]
     },
     "metadata": {
      "needs_background": "light"
     },
     "output_type": "display_data"
    }
   ],
   "source": [
    "#creating a joinplot to see if any linear relationship (also adding in county)\n",
    "print(\"Is there a relationship\\nbetween lot size and logerror?\")\n",
    "sample = train.sample(100)\n",
    "sns.jointplot(x=\"lotsizesquarefeet\", y=\"logerror\", data=sample, hue = 'fips')\n",
    "plt.xlabel(\"lotsizesquarefeet\")\n",
    "plt.ylabel(\"Logerror\")\n",
    "plt.show()"
   ]
  },
  {
   "cell_type": "markdown",
   "id": "56c5187c",
   "metadata": {},
   "source": [
    "### Conclusion: No. There is no linear relationship to Lot size and Log Error"
   ]
  },
  {
   "cell_type": "markdown",
   "id": "c6204ff8",
   "metadata": {},
   "source": [
    "________________________________________________________________________________________________________"
   ]
  },
  {
   "cell_type": "markdown",
   "id": "ece8e10f",
   "metadata": {},
   "source": [
    "## Question 5):\n",
    "Does logerror match/relate to taxvaluedollar amount?"
   ]
  },
  {
   "cell_type": "code",
   "execution_count": 17,
   "id": "3ec3719f",
   "metadata": {},
   "outputs": [
    {
     "name": "stdout",
     "output_type": "stream",
     "text": [
      "Is there a relationship\n",
      "between Property Value and logerror?\n"
     ]
    },
    {
     "data": {
      "image/png": "[encoded data removed]",
      "text/plain": [
       "<Figure size 432x432 with 3 Axes>"
      ]
     },
     "metadata": {
      "needs_background": "light"
     },
     "output_type": "display_data"
    }
   ],
   "source": [
    "#creating a joinplot to see if any linear relationship (also adding in county)\n",
    "print(\"Is there a relationship\\nbetween Property Value and logerror?\")\n",
    "sample = train.sample(100)\n",
    "sns.jointplot(x=\"taxvaluedollarcnt\", y=\"logerror\", data=sample, hue = 'fips')\n",
    "plt.xlabel(\"Property Value\")\n",
    "plt.ylabel(\"Logerror\")\n",
    "plt.show()"
   ]
  },
  {
   "cell_type": "markdown",
   "id": "bc63d392",
   "metadata": {},
   "source": [
    "### Conclusion: No. There is no linear relationship to Lot size and Log Error"
   ]
  },
  {
   "cell_type": "code",
   "execution_count": null,
   "id": "09eabd0c",
   "metadata": {},
   "outputs": [],
   "source": []
  }
 ],
 "metadata": {
  "kernelspec": {
   "display_name": "Python 3 (ipykernel)",
   "language": "python",
   "name": "python3"
  },
  "language_info": {
   "codemirror_mode": {
    "name": "ipython",
    "version": 3
   },
   "file_extension": ".py",
   "mimetype": "text/x-python",
   "name": "python",
   "nbconvert_exporter": "python",
   "pygments_lexer": "ipython3",
   "version": "3.9.7"
  }
 },
 "nbformat": 4,
 "nbformat_minor": 5
}
